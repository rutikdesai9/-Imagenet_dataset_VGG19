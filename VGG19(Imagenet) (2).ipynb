{
 "cells": [
  {
   "cell_type": "code",
   "execution_count": 1,
   "metadata": {
    "colab": {
     "base_uri": "https://localhost:8080/",
     "height": 35
    },
    "colab_type": "code",
    "executionInfo": {
     "elapsed": 2792,
     "status": "ok",
     "timestamp": 1595272261638,
     "user": {
      "displayName": "rutik desai",
      "photoUrl": "https://lh3.googleusercontent.com/a-/AOh14GjsR2wNnVRwsopRoR8YoK8ZdpnOr3dMt3gXhVCc=s64",
      "userId": "08163819021614694245"
     },
     "user_tz": -330
    },
    "id": "gE8Rwfabn-lG",
    "outputId": "0f282638-6e9c-4499-8912-feb1299bcd09"
   },
   "outputs": [
    {
     "data": {
      "text/plain": [
       "'2.0.0'"
      ]
     },
     "execution_count": 1,
     "metadata": {},
     "output_type": "execute_result"
    }
   ],
   "source": [
    "import tensorflow as tf\n",
    "tf.__version__"
   ]
  },
  {
   "cell_type": "code",
   "execution_count": 2,
   "metadata": {
    "colab": {},
    "colab_type": "code",
    "executionInfo": {
     "elapsed": 2951,
     "status": "ok",
     "timestamp": 1595272430287,
     "user": {
      "displayName": "rutik desai",
      "photoUrl": "https://lh3.googleusercontent.com/a-/AOh14GjsR2wNnVRwsopRoR8YoK8ZdpnOr3dMt3gXhVCc=s64",
      "userId": "08163819021614694245"
     },
     "user_tz": -330
    },
    "id": "Az105YWWouOS"
   },
   "outputs": [],
   "source": [
    "from tensorflow.keras.applications.vgg19 import VGG19"
   ]
  },
  {
   "cell_type": "code",
   "execution_count": 3,
   "metadata": {
    "colab": {
     "base_uri": "https://localhost:8080/",
     "height": 71
    },
    "colab_type": "code",
    "executionInfo": {
     "elapsed": 17102,
     "status": "ok",
     "timestamp": 1595272444466,
     "user": {
      "displayName": "rutik desai",
      "photoUrl": "https://lh3.googleusercontent.com/a-/AOh14GjsR2wNnVRwsopRoR8YoK8ZdpnOr3dMt3gXhVCc=s64",
      "userId": "08163819021614694245"
     },
     "user_tz": -330
    },
    "id": "_4gQRYRto9Am",
    "outputId": "63f35368-3a99-418c-c16e-0a059d7b45c2"
   },
   "outputs": [
    {
     "name": "stdout",
     "output_type": "stream",
     "text": [
      "Downloading data from https://github.com/fchollet/deep-learning-models/releases/download/v0.1/vgg19_weights_tf_dim_ordering_tf_kernels.h5\n",
      "574717952/574710816 [==============================] - 584s 1us/step\n"
     ]
    }
   ],
   "source": [
    "model=VGG19(weights='imagenet')"
   ]
  },
  {
   "cell_type": "code",
   "execution_count": 4,
   "metadata": {
    "colab": {
     "base_uri": "https://localhost:8080/",
     "height": 1000
    },
    "colab_type": "code",
    "executionInfo": {
     "elapsed": 1061,
     "status": "ok",
     "timestamp": 1595272452192,
     "user": {
      "displayName": "rutik desai",
      "photoUrl": "https://lh3.googleusercontent.com/a-/AOh14GjsR2wNnVRwsopRoR8YoK8ZdpnOr3dMt3gXhVCc=s64",
      "userId": "08163819021614694245"
     },
     "user_tz": -330
    },
    "id": "eHlglVKtpO8T",
    "outputId": "62c63ac4-5fbd-4686-ad9f-f80bf9977730"
   },
   "outputs": [
    {
     "name": "stdout",
     "output_type": "stream",
     "text": [
      "Model: \"vgg19\"\n",
      "_________________________________________________________________\n",
      "Layer (type)                 Output Shape              Param #   \n",
      "=================================================================\n",
      "input_1 (InputLayer)         [(None, 224, 224, 3)]     0         \n",
      "_________________________________________________________________\n",
      "block1_conv1 (Conv2D)        (None, 224, 224, 64)      1792      \n",
      "_________________________________________________________________\n",
      "block1_conv2 (Conv2D)        (None, 224, 224, 64)      36928     \n",
      "_________________________________________________________________\n",
      "block1_pool (MaxPooling2D)   (None, 112, 112, 64)      0         \n",
      "_________________________________________________________________\n",
      "block2_conv1 (Conv2D)        (None, 112, 112, 128)     73856     \n",
      "_________________________________________________________________\n",
      "block2_conv2 (Conv2D)        (None, 112, 112, 128)     147584    \n",
      "_________________________________________________________________\n",
      "block2_pool (MaxPooling2D)   (None, 56, 56, 128)       0         \n",
      "_________________________________________________________________\n",
      "block3_conv1 (Conv2D)        (None, 56, 56, 256)       295168    \n",
      "_________________________________________________________________\n",
      "block3_conv2 (Conv2D)        (None, 56, 56, 256)       590080    \n",
      "_________________________________________________________________\n",
      "block3_conv3 (Conv2D)        (None, 56, 56, 256)       590080    \n",
      "_________________________________________________________________\n",
      "block3_conv4 (Conv2D)        (None, 56, 56, 256)       590080    \n",
      "_________________________________________________________________\n",
      "block3_pool (MaxPooling2D)   (None, 28, 28, 256)       0         \n",
      "_________________________________________________________________\n",
      "block4_conv1 (Conv2D)        (None, 28, 28, 512)       1180160   \n",
      "_________________________________________________________________\n",
      "block4_conv2 (Conv2D)        (None, 28, 28, 512)       2359808   \n",
      "_________________________________________________________________\n",
      "block4_conv3 (Conv2D)        (None, 28, 28, 512)       2359808   \n",
      "_________________________________________________________________\n",
      "block4_conv4 (Conv2D)        (None, 28, 28, 512)       2359808   \n",
      "_________________________________________________________________\n",
      "block4_pool (MaxPooling2D)   (None, 14, 14, 512)       0         \n",
      "_________________________________________________________________\n",
      "block5_conv1 (Conv2D)        (None, 14, 14, 512)       2359808   \n",
      "_________________________________________________________________\n",
      "block5_conv2 (Conv2D)        (None, 14, 14, 512)       2359808   \n",
      "_________________________________________________________________\n",
      "block5_conv3 (Conv2D)        (None, 14, 14, 512)       2359808   \n",
      "_________________________________________________________________\n",
      "block5_conv4 (Conv2D)        (None, 14, 14, 512)       2359808   \n",
      "_________________________________________________________________\n",
      "block5_pool (MaxPooling2D)   (None, 7, 7, 512)         0         \n",
      "_________________________________________________________________\n",
      "flatten (Flatten)            (None, 25088)             0         \n",
      "_________________________________________________________________\n",
      "fc1 (Dense)                  (None, 4096)              102764544 \n",
      "_________________________________________________________________\n",
      "fc2 (Dense)                  (None, 4096)              16781312  \n",
      "_________________________________________________________________\n",
      "predictions (Dense)          (None, 1000)              4097000   \n",
      "=================================================================\n",
      "Total params: 143,667,240\n",
      "Trainable params: 143,667,240\n",
      "Non-trainable params: 0\n",
      "_________________________________________________________________\n"
     ]
    }
   ],
   "source": [
    "model.summary()"
   ]
  },
  {
   "cell_type": "code",
   "execution_count": 5,
   "metadata": {
    "colab": {},
    "colab_type": "code",
    "executionInfo": {
     "elapsed": 3993,
     "status": "ok",
     "timestamp": 1595272589502,
     "user": {
      "displayName": "rutik desai",
      "photoUrl": "https://lh3.googleusercontent.com/a-/AOh14GjsR2wNnVRwsopRoR8YoK8ZdpnOr3dMt3gXhVCc=s64",
      "userId": "08163819021614694245"
     },
     "user_tz": -330
    },
    "id": "JpTjfgWhpdO2"
   },
   "outputs": [],
   "source": [
    "model.save('vgg19.h5')"
   ]
  },
  {
   "cell_type": "code",
   "execution_count": 5,
   "metadata": {
    "colab": {},
    "colab_type": "code",
    "executionInfo": {
     "elapsed": 2868,
     "status": "ok",
     "timestamp": 1595274181882,
     "user": {
      "displayName": "rutik desai",
      "photoUrl": "https://lh3.googleusercontent.com/a-/AOh14GjsR2wNnVRwsopRoR8YoK8ZdpnOr3dMt3gXhVCc=s64",
      "userId": "08163819021614694245"
     },
     "user_tz": -330
    },
    "id": "LxQUEw6np-Cb"
   },
   "outputs": [],
   "source": [
    "# model.save('vgg19.h5')"
   ]
  },
  {
   "cell_type": "code",
   "execution_count": null,
   "metadata": {
    "colab": {},
    "colab_type": "code",
    "id": "-jaK3C5swDEW"
   },
   "outputs": [],
   "source": []
  }
 ],
 "metadata": {
  "accelerator": "GPU",
  "colab": {
   "authorship_tag": "ABX9TyOvzo6bJlxHgJQxso4VM+9E",
   "mount_file_id": "1O0Z68LnyP4oe2xtYjZOJ6L4FBmIxH74h",
   "name": "VGG19(Imagenet).ipynb",
   "provenance": []
  },
  "kernelspec": {
   "display_name": "Python 3",
   "language": "python",
   "name": "python3"
  },
  "language_info": {
   "codemirror_mode": {
    "name": "ipython",
    "version": 3
   },
   "file_extension": ".py",
   "mimetype": "text/x-python",
   "name": "python",
   "nbconvert_exporter": "python",
   "pygments_lexer": "ipython3",
   "version": "3.6.8"
  }
 },
 "nbformat": 4,
 "nbformat_minor": 1
}
